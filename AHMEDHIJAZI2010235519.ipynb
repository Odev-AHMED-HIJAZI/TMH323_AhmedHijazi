{
 "cells": [
  {
   "cell_type": "markdown",
   "id": "ba3f158b",
   "metadata": {},
   "source": [
    "## Ödev \n",
    "* Bu meme kanseri dataseti.\n",
    "* Madison'daki Wisconsin Üniversitesi Hastaneleri'nden Dr. William H. Wolberg'den elde edilmiştir."
   ]
  },
  {
   "cell_type": "code",
   "execution_count": 1,
   "id": "f2cc3446",
   "metadata": {},
   "outputs": [
    {
     "name": "stdout",
     "output_type": "stream",
     "text": [
      "   Sample code number  Clump Thickness  Uniformity of Cell Size  \\\n",
      "0             1000025                5                        1   \n",
      "1             1002945                5                        4   \n",
      "2             1015425                3                        1   \n",
      "3             1016277                6                        8   \n",
      "4             1017023                4                        1   \n",
      "\n",
      "   Uniformity of Cell Shape  Marginal Adhesion  Single Epithelial Cell Size  \\\n",
      "0                         1                  1                            2   \n",
      "1                         4                  5                            7   \n",
      "2                         1                  1                            2   \n",
      "3                         8                  1                            3   \n",
      "4                         1                  3                            2   \n",
      "\n",
      "  Bare Nuclei  Bland Chromatin  Normal Nucleoli  Mitoses  Class  \n",
      "0           1                3                1        1      2  \n",
      "1          10                3                2        1      2  \n",
      "2           2                3                1        1      2  \n",
      "3           4                3                7        1      2  \n",
      "4           1                3                1        1      2  \n"
     ]
    }
   ],
   "source": [
    "import pandas as pd\n",
    "import numpy as np\n",
    "import matplotlib.pyplot as plt\n",
    "\n",
    "df=pd.read_csv(\"breast_cancer_bd.csv\",sep=\",\")\n",
    "print(df.head())"
   ]
  },
  {
   "cell_type": "code",
   "execution_count": 2,
   "id": "d24f4af5",
   "metadata": {},
   "outputs": [
    {
     "name": "stdout",
     "output_type": "stream",
     "text": [
      "     Sample code number  Clump Thickness  Uniformity of Cell Size  \\\n",
      "0               1000025                5                        1   \n",
      "1               1002945                5                        4   \n",
      "2               1015425                3                        1   \n",
      "3               1016277                6                        8   \n",
      "4               1017023                4                        1   \n",
      "..                  ...              ...                      ...   \n",
      "694              776715                3                        1   \n",
      "695              841769                2                        1   \n",
      "696              888820                5                       10   \n",
      "697              897471                4                        8   \n",
      "698              897471                4                        8   \n",
      "\n",
      "     Uniformity of Cell Shape  Marginal Adhesion  Single Epithelial Cell Size  \\\n",
      "0                           1                  1                            2   \n",
      "1                           4                  5                            7   \n",
      "2                           1                  1                            2   \n",
      "3                           8                  1                            3   \n",
      "4                           1                  3                            2   \n",
      "..                        ...                ...                          ...   \n",
      "694                         1                  1                            3   \n",
      "695                         1                  1                            2   \n",
      "696                        10                  3                            7   \n",
      "697                         6                  4                            3   \n",
      "698                         8                  5                            4   \n",
      "\n",
      "    Bare Nuclei  Bland Chromatin  Normal Nucleoli  Mitoses  Class  \n",
      "0             1                3                1        1      2  \n",
      "1            10                3                2        1      2  \n",
      "2             2                3                1        1      2  \n",
      "3             4                3                7        1      2  \n",
      "4             1                3                1        1      2  \n",
      "..          ...              ...              ...      ...    ...  \n",
      "694           2                1                1        1      2  \n",
      "695           1                1                1        1      2  \n",
      "696           3                8               10        2      4  \n",
      "697           4               10                6        1      4  \n",
      "698           5               10                4        1      4  \n",
      "\n",
      "[699 rows x 11 columns]\n"
     ]
    }
   ],
   "source": [
    "print(df)"
   ]
  },
  {
   "cell_type": "code",
   "execution_count": 3,
   "id": "f53e4bf9",
   "metadata": {},
   "outputs": [
    {
     "name": "stdout",
     "output_type": "stream",
     "text": [
      "<class 'pandas.core.frame.DataFrame'>\n",
      "RangeIndex: 699 entries, 0 to 698\n",
      "Data columns (total 11 columns):\n",
      " #   Column                       Non-Null Count  Dtype \n",
      "---  ------                       --------------  ----- \n",
      " 0   Sample code number           699 non-null    int64 \n",
      " 1   Clump Thickness              699 non-null    int64 \n",
      " 2   Uniformity of Cell Size      699 non-null    int64 \n",
      " 3   Uniformity of Cell Shape     699 non-null    int64 \n",
      " 4   Marginal Adhesion            699 non-null    int64 \n",
      " 5   Single Epithelial Cell Size  699 non-null    int64 \n",
      " 6   Bare Nuclei                  699 non-null    object\n",
      " 7   Bland Chromatin              699 non-null    int64 \n",
      " 8   Normal Nucleoli              699 non-null    int64 \n",
      " 9   Mitoses                      699 non-null    int64 \n",
      " 10  Class                        699 non-null    int64 \n",
      "dtypes: int64(10), object(1)\n",
      "memory usage: 60.2+ KB\n",
      "None\n"
     ]
    }
   ],
   "source": [
    "print(df.info())"
   ]
  },
  {
   "cell_type": "code",
   "execution_count": 4,
   "id": "8c1865f9",
   "metadata": {},
   "outputs": [
    {
     "name": "stdout",
     "output_type": "stream",
     "text": [
      "0       1\n",
      "1      10\n",
      "2       2\n",
      "3       4\n",
      "4       1\n",
      "       ..\n",
      "694     2\n",
      "695     1\n",
      "696     3\n",
      "697     4\n",
      "698     5\n",
      "Name: Bare Nuclei, Length: 699, dtype: object\n",
      "0      False\n",
      "1      False\n",
      "2      False\n",
      "3      False\n",
      "4      False\n",
      "       ...  \n",
      "694    False\n",
      "695    False\n",
      "696    False\n",
      "697    False\n",
      "698    False\n",
      "Name: Bare Nuclei, Length: 699, dtype: bool\n"
     ]
    }
   ],
   "source": [
    "print(df[\"Bare Nuclei\"])\n",
    "print(df[\"Bare Nuclei\"].isnull())"
   ]
  },
  {
   "cell_type": "code",
   "execution_count": 6,
   "id": "742c1358",
   "metadata": {},
   "outputs": [
    {
     "name": "stdout",
     "output_type": "stream",
     "text": [
      "     Sample code number  Clump Thickness  Uniformity of Cell Size  \\\n",
      "0               1000025                5                        1   \n",
      "1               1002945                5                        4   \n",
      "2               1015425                3                        1   \n",
      "3               1016277                6                        8   \n",
      "4               1017023                4                        1   \n",
      "..                  ...              ...                      ...   \n",
      "694              776715                3                        1   \n",
      "695              841769                2                        1   \n",
      "696              888820                5                       10   \n",
      "697              897471                4                        8   \n",
      "698              897471                4                        8   \n",
      "\n",
      "     Uniformity of Cell Shape  Marginal Adhesion  Single Epithelial Cell Size  \\\n",
      "0                           1                  1                            2   \n",
      "1                           4                  5                            7   \n",
      "2                           1                  1                            2   \n",
      "3                           8                  1                            3   \n",
      "4                           1                  3                            2   \n",
      "..                        ...                ...                          ...   \n",
      "694                         1                  1                            3   \n",
      "695                         1                  1                            2   \n",
      "696                        10                  3                            7   \n",
      "697                         6                  4                            3   \n",
      "698                         8                  5                            4   \n",
      "\n",
      "     Bare Nuclei  Bland Chromatin  Normal Nucleoli  Mitoses  Class  \n",
      "0            1.0                3                1        1      2  \n",
      "1           10.0                3                2        1      2  \n",
      "2            2.0                3                1        1      2  \n",
      "3            4.0                3                7        1      2  \n",
      "4            1.0                3                1        1      2  \n",
      "..           ...              ...              ...      ...    ...  \n",
      "694          2.0                1                1        1      2  \n",
      "695          1.0                1                1        1      2  \n",
      "696          3.0                8               10        2      4  \n",
      "697          4.0               10                6        1      4  \n",
      "698          5.0               10                4        1      4  \n",
      "\n",
      "[699 rows x 11 columns]\n"
     ]
    }
   ],
   "source": [
    "missing_values=[\"?\"]\n",
    "df=pd.read_csv(\"breast_cancer_bd.csv\",sep=\",\",na_values=missing_values)\n",
    "print(df)"
   ]
  },
  {
   "cell_type": "code",
   "execution_count": 7,
   "id": "ea0dd7aa",
   "metadata": {},
   "outputs": [
    {
     "name": "stdout",
     "output_type": "stream",
     "text": [
      "<class 'pandas.core.frame.DataFrame'>\n",
      "RangeIndex: 699 entries, 0 to 698\n",
      "Data columns (total 11 columns):\n",
      " #   Column                       Non-Null Count  Dtype  \n",
      "---  ------                       --------------  -----  \n",
      " 0   Sample code number           699 non-null    int64  \n",
      " 1   Clump Thickness              699 non-null    int64  \n",
      " 2   Uniformity of Cell Size      699 non-null    int64  \n",
      " 3   Uniformity of Cell Shape     699 non-null    int64  \n",
      " 4   Marginal Adhesion            699 non-null    int64  \n",
      " 5   Single Epithelial Cell Size  699 non-null    int64  \n",
      " 6   Bare Nuclei                  683 non-null    float64\n",
      " 7   Bland Chromatin              699 non-null    int64  \n",
      " 8   Normal Nucleoli              699 non-null    int64  \n",
      " 9   Mitoses                      699 non-null    int64  \n",
      " 10  Class                        699 non-null    int64  \n",
      "dtypes: float64(1), int64(10)\n",
      "memory usage: 60.2 KB\n",
      "None\n"
     ]
    }
   ],
   "source": [
    "print(df.info())"
   ]
  },
  {
   "cell_type": "code",
   "execution_count": 8,
   "id": "7fac0237",
   "metadata": {},
   "outputs": [
    {
     "name": "stdout",
     "output_type": "stream",
     "text": [
      "     Sample code number  Clump Thickness  Uniformity of Cell Size  \\\n",
      "0               1000025                5                        1   \n",
      "1               1002945                5                        4   \n",
      "2               1015425                3                        1   \n",
      "3               1016277                6                        8   \n",
      "4               1017023                4                        1   \n",
      "..                  ...              ...                      ...   \n",
      "694              776715                3                        1   \n",
      "695              841769                2                        1   \n",
      "696              888820                5                       10   \n",
      "697              897471                4                        8   \n",
      "698              897471                4                        8   \n",
      "\n",
      "     Uniformity of Cell Shape  Marginal Adhesion  Single Epithelial Cell Size  \\\n",
      "0                           1                  1                            2   \n",
      "1                           4                  5                            7   \n",
      "2                           1                  1                            2   \n",
      "3                           8                  1                            3   \n",
      "4                           1                  3                            2   \n",
      "..                        ...                ...                          ...   \n",
      "694                         1                  1                            3   \n",
      "695                         1                  1                            2   \n",
      "696                        10                  3                            7   \n",
      "697                         6                  4                            3   \n",
      "698                         8                  5                            4   \n",
      "\n",
      "     Bare Nuclei  Bland Chromatin  Normal Nucleoli  Mitoses  Class  \n",
      "0            1.0                3                1        1      2  \n",
      "1           10.0                3                2        1      2  \n",
      "2            2.0                3                1        1      2  \n",
      "3            4.0                3                7        1      2  \n",
      "4            1.0                3                1        1      2  \n",
      "..           ...              ...              ...      ...    ...  \n",
      "694          2.0                1                1        1      2  \n",
      "695          1.0                1                1        1      2  \n",
      "696          3.0                8               10        2      4  \n",
      "697          4.0               10                6        1      4  \n",
      "698          5.0               10                4        1      4  \n",
      "\n",
      "[699 rows x 11 columns]\n"
     ]
    }
   ],
   "source": [
    "df[\"Bare Nuclei\"].fillna(5,inplace=True)\n",
    "print(df)"
   ]
  },
  {
   "cell_type": "code",
   "execution_count": 9,
   "id": "126381cb",
   "metadata": {},
   "outputs": [
    {
     "name": "stdout",
     "output_type": "stream",
     "text": [
      "0\n"
     ]
    }
   ],
   "source": [
    " print(df.isnull().sum().sum())"
   ]
  },
  {
   "cell_type": "code",
   "execution_count": 10,
   "id": "25e1c99a",
   "metadata": {},
   "outputs": [
    {
     "name": "stdout",
     "output_type": "stream",
     "text": [
      "Sample code number               int64\n",
      "Clump Thickness                  int64\n",
      "Uniformity of Cell Size          int64\n",
      "Uniformity of Cell Shape         int64\n",
      "Marginal Adhesion                int64\n",
      "Single Epithelial Cell Size      int64\n",
      "Bare Nuclei                    float64\n",
      "Bland Chromatin                  int64\n",
      "Normal Nucleoli                  int64\n",
      "Mitoses                          int64\n",
      "Class                            int64\n",
      "dtype: object\n"
     ]
    }
   ],
   "source": [
    "print(df.dtypes)"
   ]
  },
  {
   "cell_type": "code",
   "execution_count": 11,
   "id": "9775fc02",
   "metadata": {},
   "outputs": [
    {
     "name": "stdout",
     "output_type": "stream",
     "text": [
      "Sample code number             int32\n",
      "Clump Thickness                int32\n",
      "Uniformity of Cell Size        int32\n",
      "Uniformity of Cell Shape       int32\n",
      "Marginal Adhesion              int32\n",
      "Single Epithelial Cell Size    int32\n",
      "Bare Nuclei                    int32\n",
      "Bland Chromatin                int32\n",
      "Normal Nucleoli                int32\n",
      "Mitoses                        int32\n",
      "Class                          int32\n",
      "dtype: object\n"
     ]
    }
   ],
   "source": [
    "donusum={\"Sample code number\":int,\n",
    "        \"Clump Thickness\":int,\n",
    "        \"Uniformity of Cell Size\":int,\n",
    "        \"Uniformity of Cell Shape\":int,\n",
    "        \"Marginal Adhesion\":int,\n",
    "        \"Single Epithelial Cell Size\":int,\n",
    "        \"Bare Nuclei\":int,\n",
    "        \"Bland Chromatin\":int,\n",
    "        \"Normal Nucleoli\":int,\n",
    "        \"Mitoses\":int,\n",
    "        \"Class\":int}\n",
    "\n",
    "df=df.astype(donusum)\n",
    "print(df.dtypes)"
   ]
  },
  {
   "cell_type": "code",
   "execution_count": 13,
   "id": "58132190",
   "metadata": {},
   "outputs": [
    {
     "name": "stdout",
     "output_type": "stream",
     "text": [
      "<class 'pandas.core.frame.DataFrame'>\n",
      "RangeIndex: 699 entries, 0 to 698\n",
      "Data columns (total 11 columns):\n",
      " #   Column                       Non-Null Count  Dtype\n",
      "---  ------                       --------------  -----\n",
      " 0   Sample code number           699 non-null    int32\n",
      " 1   Clump Thickness              699 non-null    int32\n",
      " 2   Uniformity of Cell Size      699 non-null    int32\n",
      " 3   Uniformity of Cell Shape     699 non-null    int32\n",
      " 4   Marginal Adhesion            699 non-null    int32\n",
      " 5   Single Epithelial Cell Size  699 non-null    int32\n",
      " 6   Bare Nuclei                  699 non-null    int32\n",
      " 7   Bland Chromatin              699 non-null    int32\n",
      " 8   Normal Nucleoli              699 non-null    int32\n",
      " 9   Mitoses                      699 non-null    int32\n",
      " 10  Class                        699 non-null    int32\n",
      "dtypes: int32(11)\n",
      "memory usage: 30.2 KB\n",
      "None\n"
     ]
    }
   ],
   "source": [
    "print(df.info())"
   ]
  },
  {
   "cell_type": "code",
   "execution_count": 16,
   "id": "770da114",
   "metadata": {},
   "outputs": [
    {
     "name": "stdout",
     "output_type": "stream",
     "text": [
      "     Sample code number  Clump Thickness  Uniformity of Cell Size  \\\n",
      "0               1000025                5                        1   \n",
      "1               1002945                5                        4   \n",
      "2               1015425                3                        1   \n",
      "3               1016277                6                        8   \n",
      "4               1017023                4                        1   \n",
      "..                  ...              ...                      ...   \n",
      "694              776715                3                        1   \n",
      "695              841769                2                        1   \n",
      "696              888820                5                       10   \n",
      "697              897471                4                        8   \n",
      "698              897471                4                        8   \n",
      "\n",
      "     Uniformity of Cell Shape  Marginal Adhesion  Single Epithelial Cell Size  \\\n",
      "0                           1                  1                            2   \n",
      "1                           4                  5                            7   \n",
      "2                           1                  1                            2   \n",
      "3                           8                  1                            3   \n",
      "4                           1                  3                            2   \n",
      "..                        ...                ...                          ...   \n",
      "694                         1                  1                            3   \n",
      "695                         1                  1                            2   \n",
      "696                        10                  3                            7   \n",
      "697                         6                  4                            3   \n",
      "698                         8                  5                            4   \n",
      "\n",
      "     Bare Nuclei  Bland Chromatin  Normal Nucleoli  Mitoses  Class  \n",
      "0              1                3                1        1      2  \n",
      "1             10                3                2        1      2  \n",
      "2              2                3                1        1      2  \n",
      "3              4                3                7        1      2  \n",
      "4              1                3                1        1      2  \n",
      "..           ...              ...              ...      ...    ...  \n",
      "694            2                1                1        1      2  \n",
      "695            1                1                1        1      2  \n",
      "696            3                8               10        2      4  \n",
      "697            4               10                6        1      4  \n",
      "698            5               10                4        1      4  \n",
      "\n",
      "[699 rows x 11 columns]\n"
     ]
    }
   ],
   "source": [
    "dfNew=pd.concat([df.loc[:,[\"Sample code number\",\"Clump Thickness\",\"Uniformity of Cell Size\",\"Uniformity of Cell Shape\",\"Marginal Adhesion\",\"Single Epithelial Cell Size\",\"Bare Nuclei\",\"Bland Chromatin\",\n",
    "                          \"Normal Nucleoli\",\"Mitoses\",\"Class\"]]],axis=1)\n",
    "                          \n",
    "print(dfNew)"
   ]
  },
  {
   "cell_type": "code",
   "execution_count": 28,
   "id": "adaf4bad",
   "metadata": {},
   "outputs": [],
   "source": [
    "dfNew.to_csv(\"breast_cancer_bd.csv\",sep=\",\")"
   ]
  },
  {
   "cell_type": "code",
   "execution_count": 29,
   "id": "58437e7d",
   "metadata": {},
   "outputs": [],
   "source": [
    "import pandas as pd\n",
    "import numpy as np\n",
    "import matplotlib.pyplot as plt\n",
    "from sklearn.linear_model import LinearRegression"
   ]
  },
  {
   "cell_type": "code",
   "execution_count": 43,
   "id": "b7287362",
   "metadata": {},
   "outputs": [],
   "source": [
    "mlr=LinearRegression()"
   ]
  },
  {
   "cell_type": "code",
   "execution_count": 44,
   "id": "02af9a89",
   "metadata": {},
   "outputs": [
    {
     "name": "stdout",
     "output_type": "stream",
     "text": [
      "     Sample code number  Clump Thickness  Uniformity of Cell Size  \\\n",
      "0               1000025                5                        1   \n",
      "1               1002945                5                        4   \n",
      "2               1015425                3                        1   \n",
      "3               1016277                6                        8   \n",
      "4               1017023                4                        1   \n",
      "..                  ...              ...                      ...   \n",
      "694              776715                3                        1   \n",
      "695              841769                2                        1   \n",
      "696              888820                5                       10   \n",
      "697              897471                4                        8   \n",
      "698              897471                4                        8   \n",
      "\n",
      "     Uniformity of Cell Shape  Marginal Adhesion  Single Epithelial Cell Size  \\\n",
      "0                           1                  1                            2   \n",
      "1                           4                  5                            7   \n",
      "2                           1                  1                            2   \n",
      "3                           8                  1                            3   \n",
      "4                           1                  3                            2   \n",
      "..                        ...                ...                          ...   \n",
      "694                         1                  1                            3   \n",
      "695                         1                  1                            2   \n",
      "696                        10                  3                            7   \n",
      "697                         6                  4                            3   \n",
      "698                         8                  5                            4   \n",
      "\n",
      "     Bare Nuclei  Bland Chromatin  Normal Nucleoli  Mitoses  Class  \n",
      "0              1                3                1        1      2  \n",
      "1             10                3                2        1      2  \n",
      "2              2                3                1        1      2  \n",
      "3              4                3                7        1      2  \n",
      "4              1                3                1        1      2  \n",
      "..           ...              ...              ...      ...    ...  \n",
      "694            2                1                1        1      2  \n",
      "695            1                1                1        1      2  \n",
      "696            3                8               10        2      4  \n",
      "697            4               10                6        1      4  \n",
      "698            5               10                4        1      4  \n",
      "\n",
      "[699 rows x 11 columns]\n"
     ]
    }
   ],
   "source": [
    "print(df)"
   ]
  },
  {
   "cell_type": "code",
   "execution_count": 45,
   "id": "f0c16fc9",
   "metadata": {},
   "outputs": [
    {
     "data": {
      "text/plain": [
       "LinearRegression()"
      ]
     },
     "execution_count": 45,
     "metadata": {},
     "output_type": "execute_result"
    }
   ],
   "source": [
    "x=df.iloc[:,1:11]\n",
    "y=df.iloc[:,10:11]\n",
    "mlr.fit(x,y)"
   ]
  },
  {
   "cell_type": "code",
   "execution_count": 46,
   "id": "4b571a17",
   "metadata": {},
   "outputs": [
    {
     "name": "stdout",
     "output_type": "stream",
     "text": [
      "[4.4408921e-15] [[ 1.49894402e-16 -1.94289029e-16  4.57966998e-16 -2.01227923e-16\n",
      "   1.38777878e-17 -2.08166817e-17 -3.46944695e-17  7.63278329e-17\n",
      "   7.28583860e-17  1.00000000e+00]]\n"
     ]
    }
   ],
   "source": [
    "print(mlr.intercept_,mlr.coef_)"
   ]
  },
  {
   "cell_type": "code",
   "execution_count": 67,
   "id": "3ef2b61b",
   "metadata": {
    "scrolled": true
   },
   "outputs": [
    {
     "name": "stdout",
     "output_type": "stream",
     "text": [
      "[[2.]]\n"
     ]
    },
    {
     "name": "stderr",
     "output_type": "stream",
     "text": [
      "C:\\Users\\ahmed\\anaconda3\\lib\\site-packages\\sklearn\\base.py:450: UserWarning: X does not have valid feature names, but LinearRegression was fitted with feature names\n",
      "  warnings.warn(\n"
     ]
    }
   ],
   "source": [
    "print(mlr.predict(np.array([[1,4,5,3,10,8,6,7,9,2]])))"
   ]
  },
  {
   "cell_type": "code",
   "execution_count": 68,
   "id": "5834200c",
   "metadata": {},
   "outputs": [
    {
     "name": "stdout",
     "output_type": "stream",
     "text": [
      "mlr R2: 1.0\n",
      "mlr Mae: 1.6064378725681662e-10\n",
      "mlr Mse: 3.43503071274734e-20\n",
      "mlr Rmse: 1.8533835848920588e-10\n",
      "mlr Mape: 1.4280869493895642e-10\n"
     ]
    },
    {
     "name": "stderr",
     "output_type": "stream",
     "text": [
      "C:\\Users\\ahmed\\anaconda3\\lib\\site-packages\\sklearn\\base.py:493: FutureWarning: The feature names should match those that were passed during fit. Starting version 1.2, an error will be raised.\n",
      "Feature names unseen at fit time:\n",
      "- Sample code number\n",
      "Feature names seen at fit time, yet now missing:\n",
      "- Class\n",
      "\n",
      "  warnings.warn(message, FutureWarning)\n"
     ]
    }
   ],
   "source": [
    "from sklearn.metrics import r2_score,mean_absolute_error,mean_absolute_percentage_error,mean_squared_error\n",
    "\n",
    "mlr_pred=mlr.predict(x)\n",
    "\n",
    "print(\"mlr R2:\",r2_score(y,mlr_pred))\n",
    "print(\"mlr Mae:\",mean_absolute_error(y,mlr_pred))\n",
    "print(\"mlr Mse:\",mean_squared_error(y,mlr_pred))\n",
    "print(\"mlr Rmse:\",(mean_squared_error(y,mlr_pred))**0.5)\n",
    "print(\"mlr Mape:\",mean_absolute_percentage_error(y,mlr_pred))"
   ]
  },
  {
   "cell_type": "code",
   "execution_count": 69,
   "id": "3994b968",
   "metadata": {},
   "outputs": [
    {
     "data": {
      "text/plain": [
       "LinearRegression()"
      ]
     },
     "execution_count": 69,
     "metadata": {},
     "output_type": "execute_result"
    }
   ],
   "source": [
    "from sklearn.preprocessing import PolynomialFeatures\n",
    "plr=PolynomialFeatures(degree=4)\n",
    "\n",
    "x_pol=plr.fit_transform(x)\n",
    "lr_pol=LinearRegression()\n",
    "lr_pol.fit(x_pol,y)"
   ]
  },
  {
   "cell_type": "code",
   "execution_count": 70,
   "id": "5151213a",
   "metadata": {},
   "outputs": [
    {
     "name": "stdout",
     "output_type": "stream",
     "text": [
      "[[1.04983561]]\n"
     ]
    }
   ],
   "source": [
    "xnew=plr.fit_transform(np.array([[1,4,5,3,10,8,6,7,9,2]]))\n",
    "print(lr_pol.predict(xnew))"
   ]
  },
  {
   "cell_type": "code",
   "execution_count": 71,
   "id": "b6f14e7d",
   "metadata": {},
   "outputs": [
    {
     "name": "stdout",
     "output_type": "stream",
     "text": [
      "pol R2: 0.7735574078447982\n",
      "pol Mae: 0.4443351516993455\n",
      "pol Mse: 0.665126249347544\n",
      "pol Rmse: 0.815552726282945\n",
      "pol Mape: 0.2889041252608921\n"
     ]
    }
   ],
   "source": [
    "pol_pred=lr_pol.predict(x_pol)\n",
    "\n",
    "print(\"pol R2:\",r2_score(y,pol_pred))\n",
    "print(\"pol Mae:\",mean_absolute_error(y,pol_pred))\n",
    "print(\"pol Mse:\",mean_squared_error(y,pol_pred))\n",
    "print(\"pol Rmse:\",(mean_squared_error(y,pol_pred))**0.5)\n",
    "print(\"pol Mape:\",mean_absolute_percentage_error(y,pol_pred))"
   ]
  },
  {
   "cell_type": "code",
   "execution_count": 74,
   "id": "dc9d4049",
   "metadata": {},
   "outputs": [
    {
     "name": "stdout",
     "output_type": "stream",
     "text": [
      "Dt R2: 1.0\n",
      "Rf R2: 0.9999526096741826\n",
      "Rf Mae: 0.0014163090128755343\n"
     ]
    },
    {
     "name": "stderr",
     "output_type": "stream",
     "text": [
      "C:\\Users\\ahmed\\AppData\\Local\\Temp\\ipykernel_41924\\2746463212.py:22: DataConversionWarning: A column-vector y was passed when a 1d array was expected. Please change the shape of y to (n_samples,), for example using ravel().\n",
      "  rf.fit(x,y)\n"
     ]
    }
   ],
   "source": [
    "import pandas as pd\n",
    "import numpy as np\n",
    "from sklearn.tree import DecisionTreeRegressor\n",
    "from sklearn.metrics import r2_score,mean_absolute_error,mean_squared_error\n",
    "\n",
    "df=pd.read_csv(\"breast_cancer_bd.csv\",sep=\",\")\n",
    "\n",
    "x=df.iloc[:,1:11]\n",
    "y=df.iloc[:,10:11]\n",
    "\n",
    "\n",
    "\n",
    "tree_reg=DecisionTreeRegressor()\n",
    "tree_reg.fit(x,y)\n",
    "tree_pred=tree_reg.predict(x)\n",
    "print(\"Dt R2:\",r2_score(y,tree_pred))\n",
    "\n",
    "\n",
    "\n",
    "from sklearn.ensemble import RandomForestRegressor\n",
    "rf=RandomForestRegressor(n_estimators=100,random_state=42)\n",
    "rf.fit(x,y)\n",
    "rf_pred=rf.predict(x)\n",
    "print(\"Rf R2:\",r2_score(y,rf_pred))\n",
    "print(\"Rf Mae:\",mean_absolute_error(y,rf_pred))"
   ]
  },
  {
   "cell_type": "code",
   "execution_count": 76,
   "id": "2eb582ea",
   "metadata": {},
   "outputs": [
    {
     "name": "stderr",
     "output_type": "stream",
     "text": [
      "C:\\Users\\ahmed\\AppData\\Local\\Temp\\ipykernel_41924\\612709295.py:14: DataConversionWarning: A column-vector y was passed when a 1d array was expected. Please change the shape of y to (n_samples,), for example using ravel().\n",
      "  Rf.fit(x_train,y_train)\n"
     ]
    }
   ],
   "source": [
    "from sklearn.model_selection import train_test_split\n",
    "x_train,x_test,y_train,y_test=train_test_split(x,y,test_size=0.1,random_state=42)\n",
    "\n",
    "\n",
    "mlr=LinearRegression()\n",
    "mlr.fit(x_train,y_train)\n",
    "mlr_pred=mlr.predict(x_test)\n",
    "\n",
    "Dt=DecisionTreeRegressor()\n",
    "Dt.fit(x_train,y_train)\n",
    "Dt_pred=Dt.predict(x_test)\n",
    "\n",
    "Rf=RandomForestRegressor(n_estimators=100,random_state=42)\n",
    "Rf.fit(x_train,y_train)\n",
    "Rf_pred=rf.predict(x_test)"
   ]
  },
  {
   "cell_type": "code",
   "execution_count": 78,
   "id": "612db016",
   "metadata": {},
   "outputs": [
    {
     "name": "stdout",
     "output_type": "stream",
     "text": [
      "mlr: R2: 1.0 Mae: 2.4052014348439702e-12\n",
      "Dt: R2: 1.0 Mae: 0.0\n",
      "Rf: R2: 1.0 Mae: 0.0\n"
     ]
    }
   ],
   "source": [
    "from sklearn.metrics import r2_score,mean_absolute_error,mean_squared_error\n",
    "print(\"mlr:\",\"R2:\",r2_score(y_test,mlr_pred),\"Mae:\",mean_absolute_error(y_test,mlr_pred))\n",
    "print(\"Dt:\",\"R2:\",r2_score(y_test,Dt_pred),\"Mae:\",mean_absolute_error(y_test,Dt_pred))\n",
    "print(\"Rf:\",\"R2:\",r2_score(y_test,Rf_pred),\"Mae:\",mean_absolute_error(y_test,Rf_pred))"
   ]
  },
  {
   "cell_type": "code",
   "execution_count": null,
   "id": "75c8f1dc",
   "metadata": {},
   "outputs": [],
   "source": []
  }
 ],
 "metadata": {
  "kernelspec": {
   "display_name": "Python 3 (ipykernel)",
   "language": "python",
   "name": "python3"
  },
  "language_info": {
   "codemirror_mode": {
    "name": "ipython",
    "version": 3
   },
   "file_extension": ".py",
   "mimetype": "text/x-python",
   "name": "python",
   "nbconvert_exporter": "python",
   "pygments_lexer": "ipython3",
   "version": "3.9.12"
  }
 },
 "nbformat": 4,
 "nbformat_minor": 5
}
